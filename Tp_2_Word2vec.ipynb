{
  "nbformat": 4,
  "nbformat_minor": 0,
  "metadata": {
    "colab": {
      "provenance": [],
      "authorship_tag": "ABX9TyOFvaDX0+AYIY6czK0r3VZc",
      "include_colab_link": true
    },
    "kernelspec": {
      "name": "python3",
      "display_name": "Python 3"
    },
    "language_info": {
      "name": "python"
    }
  },
  "cells": [
    {
      "cell_type": "markdown",
      "metadata": {
        "id": "view-in-github",
        "colab_type": "text"
      },
      "source": [
        "<a href=\"https://colab.research.google.com/github/FatimaSenan/Tps_NLP/blob/main/Tp_2_Word2vec.ipynb\" target=\"_parent\"><img src=\"https://colab.research.google.com/assets/colab-badge.svg\" alt=\"Open In Colab\"/></a>"
      ]
    },
    {
      "cell_type": "code",
      "execution_count": null,
      "metadata": {
        "id": "nckpw1w0Vily"
      },
      "outputs": [],
      "source": [
        "from gensim.models import Word2Vec\n",
        "from gensim.utils import simple_preprocess\n"
      ]
    },
    {
      "cell_type": "markdown",
      "source": [
        "# 1-Extraire la représentation vectorielle d'un mot"
      ],
      "metadata": {
        "id": "EThrTiZQampN"
      }
    },
    {
      "cell_type": "code",
      "source": [
        "#télecharger le dataset\n",
        "from google.colab import files\n",
        "files = files.upload()"
      ],
      "metadata": {
        "colab": {
          "base_uri": "https://localhost:8080/",
          "height": 73
        },
        "id": "dKdIUk3NatjF",
        "outputId": "63e9fa50-78a6-4ca2-85d9-f55f8b43ad20"
      },
      "execution_count": null,
      "outputs": [
        {
          "output_type": "display_data",
          "data": {
            "text/plain": [
              "<IPython.core.display.HTML object>"
            ],
            "text/html": [
              "\n",
              "     <input type=\"file\" id=\"files-423cb65c-c179-4f8d-84cf-12668314b043\" name=\"files[]\" multiple disabled\n",
              "        style=\"border:none\" />\n",
              "     <output id=\"result-423cb65c-c179-4f8d-84cf-12668314b043\">\n",
              "      Upload widget is only available when the cell has been executed in the\n",
              "      current browser session. Please rerun this cell to enable.\n",
              "      </output>\n",
              "      <script>// Copyright 2017 Google LLC\n",
              "//\n",
              "// Licensed under the Apache License, Version 2.0 (the \"License\");\n",
              "// you may not use this file except in compliance with the License.\n",
              "// You may obtain a copy of the License at\n",
              "//\n",
              "//      http://www.apache.org/licenses/LICENSE-2.0\n",
              "//\n",
              "// Unless required by applicable law or agreed to in writing, software\n",
              "// distributed under the License is distributed on an \"AS IS\" BASIS,\n",
              "// WITHOUT WARRANTIES OR CONDITIONS OF ANY KIND, either express or implied.\n",
              "// See the License for the specific language governing permissions and\n",
              "// limitations under the License.\n",
              "\n",
              "/**\n",
              " * @fileoverview Helpers for google.colab Python module.\n",
              " */\n",
              "(function(scope) {\n",
              "function span(text, styleAttributes = {}) {\n",
              "  const element = document.createElement('span');\n",
              "  element.textContent = text;\n",
              "  for (const key of Object.keys(styleAttributes)) {\n",
              "    element.style[key] = styleAttributes[key];\n",
              "  }\n",
              "  return element;\n",
              "}\n",
              "\n",
              "// Max number of bytes which will be uploaded at a time.\n",
              "const MAX_PAYLOAD_SIZE = 100 * 1024;\n",
              "\n",
              "function _uploadFiles(inputId, outputId) {\n",
              "  const steps = uploadFilesStep(inputId, outputId);\n",
              "  const outputElement = document.getElementById(outputId);\n",
              "  // Cache steps on the outputElement to make it available for the next call\n",
              "  // to uploadFilesContinue from Python.\n",
              "  outputElement.steps = steps;\n",
              "\n",
              "  return _uploadFilesContinue(outputId);\n",
              "}\n",
              "\n",
              "// This is roughly an async generator (not supported in the browser yet),\n",
              "// where there are multiple asynchronous steps and the Python side is going\n",
              "// to poll for completion of each step.\n",
              "// This uses a Promise to block the python side on completion of each step,\n",
              "// then passes the result of the previous step as the input to the next step.\n",
              "function _uploadFilesContinue(outputId) {\n",
              "  const outputElement = document.getElementById(outputId);\n",
              "  const steps = outputElement.steps;\n",
              "\n",
              "  const next = steps.next(outputElement.lastPromiseValue);\n",
              "  return Promise.resolve(next.value.promise).then((value) => {\n",
              "    // Cache the last promise value to make it available to the next\n",
              "    // step of the generator.\n",
              "    outputElement.lastPromiseValue = value;\n",
              "    return next.value.response;\n",
              "  });\n",
              "}\n",
              "\n",
              "/**\n",
              " * Generator function which is called between each async step of the upload\n",
              " * process.\n",
              " * @param {string} inputId Element ID of the input file picker element.\n",
              " * @param {string} outputId Element ID of the output display.\n",
              " * @return {!Iterable<!Object>} Iterable of next steps.\n",
              " */\n",
              "function* uploadFilesStep(inputId, outputId) {\n",
              "  const inputElement = document.getElementById(inputId);\n",
              "  inputElement.disabled = false;\n",
              "\n",
              "  const outputElement = document.getElementById(outputId);\n",
              "  outputElement.innerHTML = '';\n",
              "\n",
              "  const pickedPromise = new Promise((resolve) => {\n",
              "    inputElement.addEventListener('change', (e) => {\n",
              "      resolve(e.target.files);\n",
              "    });\n",
              "  });\n",
              "\n",
              "  const cancel = document.createElement('button');\n",
              "  inputElement.parentElement.appendChild(cancel);\n",
              "  cancel.textContent = 'Cancel upload';\n",
              "  const cancelPromise = new Promise((resolve) => {\n",
              "    cancel.onclick = () => {\n",
              "      resolve(null);\n",
              "    };\n",
              "  });\n",
              "\n",
              "  // Wait for the user to pick the files.\n",
              "  const files = yield {\n",
              "    promise: Promise.race([pickedPromise, cancelPromise]),\n",
              "    response: {\n",
              "      action: 'starting',\n",
              "    }\n",
              "  };\n",
              "\n",
              "  cancel.remove();\n",
              "\n",
              "  // Disable the input element since further picks are not allowed.\n",
              "  inputElement.disabled = true;\n",
              "\n",
              "  if (!files) {\n",
              "    return {\n",
              "      response: {\n",
              "        action: 'complete',\n",
              "      }\n",
              "    };\n",
              "  }\n",
              "\n",
              "  for (const file of files) {\n",
              "    const li = document.createElement('li');\n",
              "    li.append(span(file.name, {fontWeight: 'bold'}));\n",
              "    li.append(span(\n",
              "        `(${file.type || 'n/a'}) - ${file.size} bytes, ` +\n",
              "        `last modified: ${\n",
              "            file.lastModifiedDate ? file.lastModifiedDate.toLocaleDateString() :\n",
              "                                    'n/a'} - `));\n",
              "    const percent = span('0% done');\n",
              "    li.appendChild(percent);\n",
              "\n",
              "    outputElement.appendChild(li);\n",
              "\n",
              "    const fileDataPromise = new Promise((resolve) => {\n",
              "      const reader = new FileReader();\n",
              "      reader.onload = (e) => {\n",
              "        resolve(e.target.result);\n",
              "      };\n",
              "      reader.readAsArrayBuffer(file);\n",
              "    });\n",
              "    // Wait for the data to be ready.\n",
              "    let fileData = yield {\n",
              "      promise: fileDataPromise,\n",
              "      response: {\n",
              "        action: 'continue',\n",
              "      }\n",
              "    };\n",
              "\n",
              "    // Use a chunked sending to avoid message size limits. See b/62115660.\n",
              "    let position = 0;\n",
              "    do {\n",
              "      const length = Math.min(fileData.byteLength - position, MAX_PAYLOAD_SIZE);\n",
              "      const chunk = new Uint8Array(fileData, position, length);\n",
              "      position += length;\n",
              "\n",
              "      const base64 = btoa(String.fromCharCode.apply(null, chunk));\n",
              "      yield {\n",
              "        response: {\n",
              "          action: 'append',\n",
              "          file: file.name,\n",
              "          data: base64,\n",
              "        },\n",
              "      };\n",
              "\n",
              "      let percentDone = fileData.byteLength === 0 ?\n",
              "          100 :\n",
              "          Math.round((position / fileData.byteLength) * 100);\n",
              "      percent.textContent = `${percentDone}% done`;\n",
              "\n",
              "    } while (position < fileData.byteLength);\n",
              "  }\n",
              "\n",
              "  // All done.\n",
              "  yield {\n",
              "    response: {\n",
              "      action: 'complete',\n",
              "    }\n",
              "  };\n",
              "}\n",
              "\n",
              "scope.google = scope.google || {};\n",
              "scope.google.colab = scope.google.colab || {};\n",
              "scope.google.colab._files = {\n",
              "  _uploadFiles,\n",
              "  _uploadFilesContinue,\n",
              "};\n",
              "})(self);\n",
              "</script> "
            ]
          },
          "metadata": {}
        },
        {
          "output_type": "stream",
          "name": "stdout",
          "text": [
            "Saving text to text\n"
          ]
        }
      ]
    },
    {
      "cell_type": "code",
      "source": [
        "#Preprocessing du text à l'aide de  la bibliothèque Gensim\n",
        "with open('/content/text', 'r') as file:\n",
        "    text = file.read()\n",
        "phrases = [simple_preprocess(x) for x in text.split(\".\")]\n",
        "print (phrases)"
      ],
      "metadata": {
        "colab": {
          "base_uri": "https://localhost:8080/"
        },
        "id": "3cjija9Edieq",
        "outputId": "05881636-09c1-47fb-913a-96918adb73f8"
      },
      "execution_count": null,
      "outputs": [
        {
          "output_type": "stream",
          "name": "stdout",
          "text": [
            "[['morocco', 'and', 'marrakech', 'tapestry', 'of', 'tradition', 'and', 'modernity', 'morocco', 'located', 'at', 'the', 'crossroads', 'of', 'europe', 'and', 'africa', 'is', 'country', 'drenched', 'in', 'history', 'mystery', 'and', 'cultural', 'richness'], ['testament', 'to', 'the', 'ancient', 'civilizations', 'that', 'once', 'flourished', 'here', 'this', 'north', 'african', 'kingdom', 'boasts', 'unique', 'blend', 'of', 'arab', 'berber', 'and', 'european', 'influences'], ['at', 'the', 'heart', 'of', 'morocco', 'rich', 'tapestry', 'lies', 'marrakech', 'one', 'of', 'its', 'four', 'imperial', 'cities', 'and', 'vibrant', 'epicenter', 'of', 'tradition', 'and', 'modernity'], ['geographical', 'significance', 'morocco', 'is', 'bordered', 'by', 'the', 'atlantic', 'ocean', 'to', 'the', 'west', 'the', 'mediterranean', 'sea', 'to', 'the', 'north', 'algeria', 'to', 'the', 'east', 'and', 'southeast', 'and', 'the', 'vast', 'sahara', 'desert', 'to', 'the', 'south'], ['its', 'strategic', 'location', 'has', 'historically', 'made', 'it', 'sought', 'after', 'territory', 'and', 'melting', 'pot', 'of', 'cultures', 'religions', 'and', 'trade', 'routes'], ['marrakech', 'the', 'red', 'city', 'marrakech', 'often', 'referred', 'to', 'as', 'the', 'red', 'city', 'due', 'to', 'its', 'distinctive', 'red', 'hued', 'buildings', 'stands', 'against', 'the', 'backdrop', 'of', 'the', 'snow', 'capped', 'atlas', 'mountains'], ['established', 'in', 'the', 'th', 'century', 'it', 'has', 'remained', 'crucial', 'political', 'economic', 'and', 'cultural', 'center', 'of', 'morocco'], ['journey', 'through', 'the', 'medina', 'marrakech', 'old', 'town', 'the', 'medina', 'is', 'unesco', 'world', 'heritage', 'site', 'and', 'labyrinthine', 'maze', 'of', 'narrow', 'alleys', 'bustling', 'souks', 'and', 'historical', 'landmarks'], ['the', 'djemaa', 'el', 'fna', 'square', 'lies', 'at', 'the', 'heart', 'of', 'the', 'medina', 'and', 'comes', 'alive', 'every', 'evening', 'with', 'storytellers', 'musicians', 'snake', 'charmers', 'and', 'food', 'stalls', 'offering', 'tantalizing', 'moroccan', 'delicacies'], ['palaces', 'and', 'gardens', 'the', 'city', 'is', 'also', 'home', 'to', 'grand', 'palaces', 'like', 'the', 'bahia', 'palace', 'showcasing', 'intricate', 'islamic', 'architecture', 'and', 'the', 'saadian', 'tombs', 'remnants', 'of', 'the', 'saadian', 'dynasty'], ['the', 'majorelle', 'garden', 'restored', 'by', 'the', 'fashion', 'designer', 'yves', 'saint', 'laurent', 'is', 'tranquil', 'oasis', 'of', 'cacti', 'palm', 'trees', 'and', 'cobalt', 'blue', 'accents'], ['modern', 'marrakech', 'while', 'tradition', 'and', 'history', 'permeate', 'marrakech', 'the', 'city', 'is', 'not', 'averse', 'to', 'the', 'modern', 'world'], ['gueliz', 'the', 'new', 'town', 'is', 'brimming', 'with', 'contemporary', 'art', 'galleries', 'stylish', 'cafes', 'and', 'chic', 'boutiques', 'offering', 'stark', 'contrast', 'to', 'the', 'ancient', 'medina'], ['moroccan', 'cuisine', 'no', 'journey', 'through', 'morocco', 'and', 'marrakech', 'would', 'be', 'complete', 'without', 'indulging', 'in', 'the', 'local', 'cuisine'], ['tagines', 'couscous', 'and', 'pastilla', 'are', 'just', 'few', 'of', 'the', 'many', 'dishes', 'that', 'combine', 'plethora', 'of', 'flavors', 'and', 'spices', 'like', 'saffron', 'cumin', 'and', 'mint'], ['paired', 'with', 'moroccan', 'mint', 'tea', 'the', 'culinary', 'experience', 'is', 'truly', 'unparalleled'], ['in', 'conclusion', 'morocco', 'with', 'marrakech', 'at', 'its', 'heart', 'offers', 'travelers', 'an', 'unparalleled', 'journey', 'through', 'time'], ['the', 'convergence', 'of', 'history', 'culture', 'architecture', 'and', 'gastronomy', 'makes', 'it', 'an', 'enthralling', 'destination', 'for', 'those', 'seeking', 'both', 'adventure', 'and', 'reflection'], ['as', 'the', 'moroccan', 'proverb', 'goes', 'he', 'who', 'does', 'not', 'travel', 'does', 'not', 'know', 'the', 'value', 'of', 'men'], ['in', 'the', 'case', 'of', 'morocco', 'and', 'marrakech', 'it', 'not', 'just', 'the', 'value', 'of', 'men', 'but', 'also', 'the', 'value', 'of', 'time', 'tradition', 'and', 'tales', 'that', 'have', 'spanned', 'centuries'], []]\n"
          ]
        }
      ]
    },
    {
      "cell_type": "code",
      "source": [
        "#modèle word2vec sur le texte\n",
        "model = Word2Vec(phrases)"
      ],
      "metadata": {
        "id": "vKMYMfAvgW8p"
      },
      "execution_count": null,
      "outputs": []
    },
    {
      "cell_type": "code",
      "source": [
        "#representation véctorielle du mot 'morocco'\n",
        "vecteur_maroc = model.wv[\"morocco\"]\n",
        "print(vecteur_maroc)"
      ],
      "metadata": {
        "colab": {
          "base_uri": "https://localhost:8080/"
        },
        "id": "nXeBgMcSib4F",
        "outputId": "674aa27c-e0da-48d6-b12d-cc4a9a4f8424"
      },
      "execution_count": null,
      "outputs": [
        {
          "output_type": "stream",
          "name": "stdout",
          "text": [
            "[ 8.1363851e-03 -4.4567771e-03 -1.0813526e-03  1.0108966e-03\n",
            " -1.7918696e-04  1.1618087e-03  6.1208038e-03 -9.2818827e-06\n",
            " -3.2714147e-03 -1.5011282e-03  5.8953711e-03  1.5119173e-03\n",
            " -7.1887643e-04  9.3524279e-03 -4.9206638e-03 -8.5172860e-04\n",
            "  9.1972221e-03  6.7812637e-03  1.4891969e-03 -8.9129973e-03\n",
            "  1.1431794e-03 -2.3034078e-03  9.3858438e-03  1.2011488e-03\n",
            "  1.5057210e-03  2.4025622e-03 -1.8260713e-03 -4.9876389e-03\n",
            "  2.0943330e-04 -2.0082367e-03  6.6213519e-03  8.9402320e-03\n",
            " -6.8288186e-04  2.9628307e-03 -6.1237183e-03  1.6933073e-03\n",
            " -6.9338018e-03 -8.6985445e-03 -5.9054806e-03 -8.9676566e-03\n",
            "  7.2782240e-03 -5.7817376e-03  8.2710693e-03 -7.2355741e-03\n",
            "  3.4389012e-03  9.6896552e-03 -7.7939350e-03 -9.9584805e-03\n",
            " -4.3333974e-03 -2.6891024e-03 -2.6986096e-04 -8.8439817e-03\n",
            " -8.6322865e-03  2.7866189e-03 -8.2305055e-03 -9.0949535e-03\n",
            " -2.3521148e-03 -8.6582014e-03 -7.0788432e-03 -8.4157074e-03\n",
            " -2.9158278e-04 -4.5810146e-03  6.6477768e-03  1.5293182e-03\n",
            " -3.3599355e-03  6.1352905e-03 -6.0007926e-03 -4.6420624e-03\n",
            " -7.2316173e-03 -4.3238127e-03 -1.8071315e-03  6.5131891e-03\n",
            " -2.7678581e-03  4.9279835e-03  6.9114403e-03 -7.4545653e-03\n",
            "  4.5883460e-03  6.1463038e-03 -2.9563333e-03  6.6189812e-03\n",
            "  6.1250962e-03 -6.4697671e-03 -6.7825671e-03  2.5420603e-03\n",
            " -1.6316127e-03 -6.0891337e-03  9.5143486e-03 -5.1496928e-03\n",
            " -6.5553263e-03 -1.2211478e-04 -2.7084348e-03  4.4943450e-04\n",
            " -3.5220012e-03 -4.3052316e-04 -6.9048587e-04  8.2909554e-04\n",
            "  8.2167620e-03 -5.7441825e-03 -1.6482853e-03  5.5726347e-03]\n"
          ]
        }
      ]
    },
    {
      "cell_type": "markdown",
      "source": [
        "# 2- Calculer la similarité entre deux mots"
      ],
      "metadata": {
        "id": "YuV-LCsZjgmA"
      }
    },
    {
      "cell_type": "code",
      "source": [
        "# le mot morocco et marrakech\n",
        "similarité = model.wv.similarity('morocco', 'marrakech')\n",
        "print(similarité)"
      ],
      "metadata": {
        "colab": {
          "base_uri": "https://localhost:8080/"
        },
        "id": "y51bfTCljjB3",
        "outputId": "8c45c268-809c-4a88-b4d3-6c7894e0a45c"
      },
      "execution_count": null,
      "outputs": [
        {
          "output_type": "stream",
          "name": "stdout",
          "text": [
            "0.03615065\n"
          ]
        }
      ]
    },
    {
      "cell_type": "markdown",
      "source": [
        "# 3- Extraire les mots contextuels (les plus similaires) pour un mot central donné"
      ],
      "metadata": {
        "id": "3A-he4FIlMOW"
      }
    },
    {
      "cell_type": "code",
      "source": [
        "#les mots contextuels pour le mot marrakech\n",
        "mots_ctx = model.wv.most_similar(positive=['marrakech'])\n",
        "print(mots_ctx)"
      ],
      "metadata": {
        "colab": {
          "base_uri": "https://localhost:8080/"
        },
        "id": "w75NQBLkmRaq",
        "outputId": "01040a1b-39c1-4dfd-b721-3f6cc1d758a0"
      },
      "execution_count": null,
      "outputs": [
        {
          "output_type": "stream",
          "name": "stdout",
          "text": [
            "[('of', 0.17074815928936005), ('is', 0.13913117349147797), ('morocco', 0.036150649189949036), ('and', 0.006997443735599518), ('the', -0.026154005900025368), ('in', -0.02689625509083271), ('to', -0.043321069329977036)]\n"
          ]
        }
      ]
    }
  ]
}